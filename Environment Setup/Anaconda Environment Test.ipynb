{
 "cells": [
  {
   "cell_type": "markdown",
   "metadata": {},
   "source": [
    "# Anaconda Environment Test"
   ]
  },
  {
   "cell_type": "markdown",
   "metadata": {},
   "source": [
    "### Click the double-arrow button above (restart the kernel, then re-run the whole notebook) to run the tests."
   ]
  },
  {
   "cell_type": "markdown",
   "metadata": {},
   "source": [
    "### If any of the following cells return errors, check your anaconda environment! Make sure that the proper environment is selected, etc."
   ]
  },
  {
   "cell_type": "code",
   "execution_count": 1,
   "metadata": {},
   "outputs": [],
   "source": [
    "imports = { }"
   ]
  },
  {
   "cell_type": "code",
   "execution_count": 2,
   "metadata": {},
   "outputs": [],
   "source": [
    "try:\n",
    "    import numpy as np\n",
    "except:\n",
    "    imports['numpy'] = False"
   ]
  },
  {
   "cell_type": "code",
   "execution_count": 3,
   "metadata": {},
   "outputs": [
    {
     "name": "stderr",
     "output_type": "stream",
     "text": [
      "Using TensorFlow backend.\n"
     ]
    }
   ],
   "source": [
    "try:\n",
    "    import keras\n",
    "except:\n",
    "    imports['keras'] = False"
   ]
  },
  {
   "cell_type": "code",
   "execution_count": 4,
   "metadata": {},
   "outputs": [],
   "source": [
    "try:\n",
    "    import tensorflow\n",
    "except:\n",
    "    imports['tensorflow'] = False"
   ]
  },
  {
   "cell_type": "code",
   "execution_count": 5,
   "metadata": {},
   "outputs": [],
   "source": [
    "try:\n",
    "    import matplotlib\n",
    "    import matplotlib.pyplot as plt\n",
    "except:\n",
    "    imports['matplotlib'] = False"
   ]
  },
  {
   "cell_type": "code",
   "execution_count": 6,
   "metadata": {},
   "outputs": [],
   "source": [
    "try:\n",
    "    import cv2\n",
    "except:\n",
    "    imports['opencv'] = False"
   ]
  },
  {
   "cell_type": "code",
   "execution_count": 7,
   "metadata": {},
   "outputs": [
    {
     "name": "stdout",
     "output_type": "stream",
     "text": [
      "All modules imported correctly.\n"
     ]
    }
   ],
   "source": [
    "if len(imports.keys()) > 0:\n",
    "    print(\"Some modules failed to import.\")\n",
    "    print(\"\\nFailed modules:\")\n",
    "    for k in imports.keys():\n",
    "        print(k)\n",
    "else:\n",
    "    print(\"All modules imported correctly.\")"
   ]
  },
  {
   "cell_type": "code",
   "execution_count": 8,
   "metadata": {},
   "outputs": [
    {
     "name": "stdout",
     "output_type": "stream",
     "text": [
      "Devices available to tensorflow:\n",
      "\n",
      "CPU:/device:CPU:0\n",
      "GPU:/device:GPU:0\n"
     ]
    }
   ],
   "source": [
    "cpulist = []\n",
    "gpulist = []\n",
    "from tensorflow.python.client import device_lib\n",
    "for D in device_lib.list_local_devices():\n",
    "    if D.device_type == 'CPU':\n",
    "        cpulist.append(D.name)\n",
    "    if D.device_type == 'GPU':\n",
    "        gpulist.append(D.name)\n",
    "\n",
    "print(\"Devices available to tensorflow:\\n\")\n",
    "print('CPU:', end='')\n",
    "for D in cpulist:\n",
    "    print(D, end='')\n",
    "print()\n",
    "print('GPU:', end='')\n",
    "for D in gpulist:\n",
    "    print(D, end='')\n",
    "print()"
   ]
  },
  {
   "cell_type": "code",
   "execution_count": 9,
   "metadata": {},
   "outputs": [
    {
     "name": "stdout",
     "output_type": "stream",
     "text": [
      "Versions:\n",
      "\n",
      "cv2: 3.4.2\n",
      "keras: 2.2.4\n",
      "numpy: 1.14.5\n",
      "tensorflow: 1.11.0\n",
      "matplotlib: 2.2.3\n"
     ]
    }
   ],
   "source": [
    "print('Versions:\\n')\n",
    "print('cv2:', cv2.__version__)\n",
    "print('keras:', keras.__version__)\n",
    "print('numpy:', np.__version__)\n",
    "print('tensorflow:', tensorflow.__version__)\n",
    "print('matplotlib:', matplotlib.__version__)"
   ]
  }
 ],
 "metadata": {
  "kernelspec": {
   "display_name": "Python 3",
   "language": "python",
   "name": "python3"
  },
  "language_info": {
   "codemirror_mode": {
    "name": "ipython",
    "version": 3
   },
   "file_extension": ".py",
   "mimetype": "text/x-python",
   "name": "python",
   "nbconvert_exporter": "python",
   "pygments_lexer": "ipython3",
   "version": "3.6.6"
  }
 },
 "nbformat": 4,
 "nbformat_minor": 2
}
